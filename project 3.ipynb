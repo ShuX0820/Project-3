{
 "cells": [
  {
   "cell_type": "code",
   "execution_count": 1,
   "id": "a3e0c06d-23a0-4fb6-bc15-2d14d1506d71",
   "metadata": {},
   "outputs": [],
   "source": [
    "import pandas as pd\n",
    "import matplotlib.pyplot as plt\n",
    "import seaborn as sns"
   ]
  },
  {
   "cell_type": "code",
   "execution_count": 2,
   "id": "6aecf740-00cb-471d-ac9a-2af4d3ea9cef",
   "metadata": {},
   "outputs": [],
   "source": [
    "df = pd.read_pickle('shared/Project-3_NYC_311_Calls.pkl')"
   ]
  },
  {
   "cell_type": "code",
   "execution_count": 3,
   "id": "d734105c-02fe-44d7-9963-57d79062bbf7",
   "metadata": {},
   "outputs": [],
   "source": [
    "df = df.set_index(pd.DatetimeIndex(df['Created Date']))\n",
    "\n",
    "del df['Created Date']"
   ]
  },
  {
   "cell_type": "code",
   "execution_count": 4,
   "id": "3ca7fcfc-848b-42e3-8e27-1c29383c51fe",
   "metadata": {},
   "outputs": [
    {
     "name": "stdout",
     "output_type": "stream",
     "text": [
      "<class 'pandas.core.frame.DataFrame'>\n",
      "DatetimeIndex: 33780977 entries, 2011-04-06 00:00:00 to 2011-04-06 00:00:00\n",
      "Data columns (total 11 columns):\n",
      " #   Column                  Dtype \n",
      "---  ------                  ----- \n",
      " 0   Unique Key              int64 \n",
      " 1   Agency                  object\n",
      " 2   Agency Name             object\n",
      " 3   Complaint Type          object\n",
      " 4   Descriptor              object\n",
      " 5   Location Type           object\n",
      " 6   Incident Zip            object\n",
      " 7   City                    object\n",
      " 8   Resolution Description  object\n",
      " 9   Borough                 object\n",
      " 10  Open Data Channel Type  object\n",
      "dtypes: int64(1), object(10)\n",
      "memory usage: 3.0+ GB\n"
     ]
    }
   ],
   "source": [
    "df.info()"
   ]
  },
  {
   "cell_type": "code",
   "execution_count": 5,
   "id": "0000f3a1-3f9e-4f2e-b8a8-5fbf4c1ee68c",
   "metadata": {},
   "outputs": [
    {
     "data": {
      "text/html": [
       "<div>\n",
       "<style scoped>\n",
       "    .dataframe tbody tr th:only-of-type {\n",
       "        vertical-align: middle;\n",
       "    }\n",
       "\n",
       "    .dataframe tbody tr th {\n",
       "        vertical-align: top;\n",
       "    }\n",
       "\n",
       "    .dataframe thead th {\n",
       "        text-align: right;\n",
       "    }\n",
       "</style>\n",
       "<table border=\"1\" class=\"dataframe\">\n",
       "  <thead>\n",
       "    <tr style=\"text-align: right;\">\n",
       "      <th></th>\n",
       "      <th>Unique Key</th>\n",
       "      <th>Agency</th>\n",
       "      <th>Agency Name</th>\n",
       "      <th>Complaint Type</th>\n",
       "      <th>Descriptor</th>\n",
       "      <th>Location Type</th>\n",
       "      <th>Incident Zip</th>\n",
       "      <th>City</th>\n",
       "      <th>Resolution Description</th>\n",
       "      <th>Borough</th>\n",
       "      <th>Open Data Channel Type</th>\n",
       "    </tr>\n",
       "    <tr>\n",
       "      <th>Created Date</th>\n",
       "      <th></th>\n",
       "      <th></th>\n",
       "      <th></th>\n",
       "      <th></th>\n",
       "      <th></th>\n",
       "      <th></th>\n",
       "      <th></th>\n",
       "      <th></th>\n",
       "      <th></th>\n",
       "      <th></th>\n",
       "      <th></th>\n",
       "    </tr>\n",
       "  </thead>\n",
       "  <tbody>\n",
       "    <tr>\n",
       "      <th>2011-04-06 00:00:00</th>\n",
       "      <td>20184537</td>\n",
       "      <td>HPD</td>\n",
       "      <td>Department of Housing Preservation and Develop...</td>\n",
       "      <td>HEATING</td>\n",
       "      <td>HEAT</td>\n",
       "      <td>RESIDENTIAL BUILDING</td>\n",
       "      <td>10002.0</td>\n",
       "      <td>NEW YORK</td>\n",
       "      <td>More than one complaint was received for this ...</td>\n",
       "      <td>MANHATTAN</td>\n",
       "      <td>UNKNOWN</td>\n",
       "    </tr>\n",
       "    <tr>\n",
       "      <th>2011-04-06 00:00:00</th>\n",
       "      <td>20184538</td>\n",
       "      <td>HPD</td>\n",
       "      <td>Department of Housing Preservation and Develop...</td>\n",
       "      <td>GENERAL CONSTRUCTION</td>\n",
       "      <td>WINDOWS</td>\n",
       "      <td>RESIDENTIAL BUILDING</td>\n",
       "      <td>11236.0</td>\n",
       "      <td>BROOKLYN</td>\n",
       "      <td>The Department of Housing Preservation and Dev...</td>\n",
       "      <td>BROOKLYN</td>\n",
       "      <td>UNKNOWN</td>\n",
       "    </tr>\n",
       "    <tr>\n",
       "      <th>2011-04-06 00:00:00</th>\n",
       "      <td>20184539</td>\n",
       "      <td>HPD</td>\n",
       "      <td>Department of Housing Preservation and Develop...</td>\n",
       "      <td>PAINT - PLASTER</td>\n",
       "      <td>WALLS</td>\n",
       "      <td>RESIDENTIAL BUILDING</td>\n",
       "      <td>10460.0</td>\n",
       "      <td>BRONX</td>\n",
       "      <td>The Department of Housing Preservation and Dev...</td>\n",
       "      <td>BRONX</td>\n",
       "      <td>UNKNOWN</td>\n",
       "    </tr>\n",
       "    <tr>\n",
       "      <th>2022-07-08 11:14:43</th>\n",
       "      <td>54732265</td>\n",
       "      <td>DSNY</td>\n",
       "      <td>Department of Sanitation</td>\n",
       "      <td>Dirty Condition</td>\n",
       "      <td>Trash</td>\n",
       "      <td>Sidewalk</td>\n",
       "      <td>10467.0</td>\n",
       "      <td>BRONX</td>\n",
       "      <td>The Department of Sanitation investigated this...</td>\n",
       "      <td>BRONX</td>\n",
       "      <td>PHONE</td>\n",
       "    </tr>\n",
       "    <tr>\n",
       "      <th>2011-04-06 00:00:00</th>\n",
       "      <td>20184540</td>\n",
       "      <td>HPD</td>\n",
       "      <td>Department of Housing Preservation and Develop...</td>\n",
       "      <td>NONCONST</td>\n",
       "      <td>VERMIN</td>\n",
       "      <td>RESIDENTIAL BUILDING</td>\n",
       "      <td>10460.0</td>\n",
       "      <td>BRONX</td>\n",
       "      <td>The Department of Housing Preservation and Dev...</td>\n",
       "      <td>BRONX</td>\n",
       "      <td>UNKNOWN</td>\n",
       "    </tr>\n",
       "  </tbody>\n",
       "</table>\n",
       "</div>"
      ],
      "text/plain": [
       "                     Unique Key Agency  \\\n",
       "Created Date                             \n",
       "2011-04-06 00:00:00    20184537    HPD   \n",
       "2011-04-06 00:00:00    20184538    HPD   \n",
       "2011-04-06 00:00:00    20184539    HPD   \n",
       "2022-07-08 11:14:43    54732265   DSNY   \n",
       "2011-04-06 00:00:00    20184540    HPD   \n",
       "\n",
       "                                                           Agency Name  \\\n",
       "Created Date                                                             \n",
       "2011-04-06 00:00:00  Department of Housing Preservation and Develop...   \n",
       "2011-04-06 00:00:00  Department of Housing Preservation and Develop...   \n",
       "2011-04-06 00:00:00  Department of Housing Preservation and Develop...   \n",
       "2022-07-08 11:14:43                           Department of Sanitation   \n",
       "2011-04-06 00:00:00  Department of Housing Preservation and Develop...   \n",
       "\n",
       "                           Complaint Type Descriptor         Location Type  \\\n",
       "Created Date                                                                 \n",
       "2011-04-06 00:00:00               HEATING       HEAT  RESIDENTIAL BUILDING   \n",
       "2011-04-06 00:00:00  GENERAL CONSTRUCTION    WINDOWS  RESIDENTIAL BUILDING   \n",
       "2011-04-06 00:00:00       PAINT - PLASTER      WALLS  RESIDENTIAL BUILDING   \n",
       "2022-07-08 11:14:43       Dirty Condition      Trash              Sidewalk   \n",
       "2011-04-06 00:00:00              NONCONST     VERMIN  RESIDENTIAL BUILDING   \n",
       "\n",
       "                    Incident Zip      City  \\\n",
       "Created Date                                 \n",
       "2011-04-06 00:00:00      10002.0  NEW YORK   \n",
       "2011-04-06 00:00:00      11236.0  BROOKLYN   \n",
       "2011-04-06 00:00:00      10460.0     BRONX   \n",
       "2022-07-08 11:14:43      10467.0     BRONX   \n",
       "2011-04-06 00:00:00      10460.0     BRONX   \n",
       "\n",
       "                                                Resolution Description  \\\n",
       "Created Date                                                             \n",
       "2011-04-06 00:00:00  More than one complaint was received for this ...   \n",
       "2011-04-06 00:00:00  The Department of Housing Preservation and Dev...   \n",
       "2011-04-06 00:00:00  The Department of Housing Preservation and Dev...   \n",
       "2022-07-08 11:14:43  The Department of Sanitation investigated this...   \n",
       "2011-04-06 00:00:00  The Department of Housing Preservation and Dev...   \n",
       "\n",
       "                       Borough Open Data Channel Type  \n",
       "Created Date                                           \n",
       "2011-04-06 00:00:00  MANHATTAN                UNKNOWN  \n",
       "2011-04-06 00:00:00   BROOKLYN                UNKNOWN  \n",
       "2011-04-06 00:00:00      BRONX                UNKNOWN  \n",
       "2022-07-08 11:14:43      BRONX                  PHONE  \n",
       "2011-04-06 00:00:00      BRONX                UNKNOWN  "
      ]
     },
     "execution_count": 5,
     "metadata": {},
     "output_type": "execute_result"
    }
   ],
   "source": [
    "df.head()"
   ]
  },
  {
   "cell_type": "code",
   "execution_count": 6,
   "id": "289aa225-88a5-4d90-bd8f-8652bddc986b",
   "metadata": {},
   "outputs": [
    {
     "data": {
      "text/html": [
       "<div>\n",
       "<style scoped>\n",
       "    .dataframe tbody tr th:only-of-type {\n",
       "        vertical-align: middle;\n",
       "    }\n",
       "\n",
       "    .dataframe tbody tr th {\n",
       "        vertical-align: top;\n",
       "    }\n",
       "\n",
       "    .dataframe thead th {\n",
       "        text-align: right;\n",
       "    }\n",
       "</style>\n",
       "<table border=\"1\" class=\"dataframe\">\n",
       "  <thead>\n",
       "    <tr style=\"text-align: right;\">\n",
       "      <th></th>\n",
       "      <th>Unique Key</th>\n",
       "    </tr>\n",
       "  </thead>\n",
       "  <tbody>\n",
       "    <tr>\n",
       "      <th>count</th>\n",
       "      <td>3.378098e+07</td>\n",
       "    </tr>\n",
       "    <tr>\n",
       "      <th>mean</th>\n",
       "      <td>3.802665e+07</td>\n",
       "    </tr>\n",
       "    <tr>\n",
       "      <th>std</th>\n",
       "      <td>1.209574e+07</td>\n",
       "    </tr>\n",
       "    <tr>\n",
       "      <th>min</th>\n",
       "      <td>1.056422e+07</td>\n",
       "    </tr>\n",
       "    <tr>\n",
       "      <th>25%</th>\n",
       "      <td>2.793121e+07</td>\n",
       "    </tr>\n",
       "    <tr>\n",
       "      <th>50%</th>\n",
       "      <td>3.798303e+07</td>\n",
       "    </tr>\n",
       "    <tr>\n",
       "      <th>75%</th>\n",
       "      <td>4.830951e+07</td>\n",
       "    </tr>\n",
       "    <tr>\n",
       "      <th>max</th>\n",
       "      <td>5.840682e+07</td>\n",
       "    </tr>\n",
       "  </tbody>\n",
       "</table>\n",
       "</div>"
      ],
      "text/plain": [
       "         Unique Key\n",
       "count  3.378098e+07\n",
       "mean   3.802665e+07\n",
       "std    1.209574e+07\n",
       "min    1.056422e+07\n",
       "25%    2.793121e+07\n",
       "50%    3.798303e+07\n",
       "75%    4.830951e+07\n",
       "max    5.840682e+07"
      ]
     },
     "execution_count": 6,
     "metadata": {},
     "output_type": "execute_result"
    }
   ],
   "source": [
    "df.describe()"
   ]
  },
  {
   "cell_type": "markdown",
   "id": "1c028e79-2ed2-45b4-aac6-de516b912b5a",
   "metadata": {},
   "source": [
    "### Q1"
   ]
  },
  {
   "cell_type": "code",
   "execution_count": 7,
   "id": "8f56478f-a8c2-4c59-81eb-3236758055ee",
   "metadata": {},
   "outputs": [
    {
     "data": {
      "text/plain": [
       "8684.320547945206"
      ]
     },
     "execution_count": 7,
     "metadata": {},
     "output_type": "execute_result"
    }
   ],
   "source": [
    "# Filter data for the year 2022\n",
    "df_2022 = df[df.index.year == 2022]\n",
    "\n",
    "# Resample the data to get daily counts of unique complaints\n",
    "daily_complaints_2022 = df_2022['Unique Key'].resample('D').count()\n",
    "\n",
    "# Calculate the average number of daily complaints\n",
    "avg_daily_complaints_2022 = daily_complaints_2022.mean()\n",
    "\n",
    "# Print the result\n",
    "avg_daily_complaints_2022"
   ]
  },
  {
   "cell_type": "code",
   "execution_count": null,
   "id": "4fae2256-1cb7-48b2-a5e7-b5a5bcf3a944",
   "metadata": {},
   "outputs": [],
   "source": []
  },
  {
   "cell_type": "markdown",
   "id": "d05d5f22-c17b-4b59-9a28-974803e14779",
   "metadata": {},
   "source": [
    "### Q2"
   ]
  },
  {
   "cell_type": "code",
   "execution_count": 11,
   "id": "d63be685-e9c3-437c-a0fc-315e3ab6933b",
   "metadata": {},
   "outputs": [
    {
     "name": "stdout",
     "output_type": "stream",
     "text": [
      "2020-08-04\n"
     ]
    }
   ],
   "source": [
    "# Resample the data to get daily counts of unique complaints\n",
    "daily_complaints = df['Unique Key'].resample('D').count()\n",
    "\n",
    "# Find the date with the maximum number of complaints\n",
    "date_of_max_complaints = daily_complaints.idxmax()\n",
    "\n",
    "# Print the result\n",
    "print(date_of_max_complaints.strftime('%Y-%m-%d'))\n"
   ]
  },
  {
   "cell_type": "code",
   "execution_count": null,
   "id": "afac69d7-e379-42fe-9431-20c48e2cfbff",
   "metadata": {},
   "outputs": [],
   "source": []
  },
  {
   "cell_type": "markdown",
   "id": "9ef3459a-0f4d-45c1-bea4-0e031dc9f395",
   "metadata": {},
   "source": [
    "### Q3"
   ]
  },
  {
   "cell_type": "code",
   "execution_count": 13,
   "id": "f342ef98-b823-4bdd-abde-ac763e965729",
   "metadata": {},
   "outputs": [
    {
     "name": "stdout",
     "output_type": "stream",
     "text": [
      "Damaged Tree\n"
     ]
    }
   ],
   "source": [
    "# On the date the maximum number of calls were received, what was the most important complaint type?\n",
    "# Find the date with the maximum number of calls\n",
    "max_calls_date = df['Unique Key'].resample('D').count().idxmax()\n",
    "\n",
    "# Filter the dataset for that specific date and find the most common complaint type\n",
    "most_common_complaint = df.loc[df.index.date == max_calls_date.date()]['Complaint Type'].value_counts().idxmax()\n",
    "print(most_common_complaint)"
   ]
  },
  {
   "cell_type": "code",
   "execution_count": null,
   "id": "d9eeef58-3f7d-4f4b-91ce-184e3baa122f",
   "metadata": {},
   "outputs": [],
   "source": []
  },
  {
   "cell_type": "markdown",
   "id": "b5fa82b0-7a3b-4bbb-9377-c9ab6783aaad",
   "metadata": {},
   "source": [
    "### Q4"
   ]
  },
  {
   "cell_type": "code",
   "execution_count": 15,
   "id": "c85bb22f-418a-4f33-996a-eaec33bfce76",
   "metadata": {},
   "outputs": [
    {
     "name": "stderr",
     "output_type": "stream",
     "text": [
      "/tmp/ipykernel_4756/3140665661.py:2: FutureWarning: 'M' is deprecated and will be removed in a future version, please use 'ME' instead.\n",
      "  quietest_month = df['Unique Key'].resample('M').count().idxmin().strftime(\"%b\")\n"
     ]
    },
    {
     "name": "stdout",
     "output_type": "stream",
     "text": [
      "Aug\n"
     ]
    }
   ],
   "source": [
    "# Quietest Month historically\n",
    "quietest_month = df['Unique Key'].resample('M').count().idxmin().strftime(\"%b\")\n",
    "print(quietest_month)"
   ]
  },
  {
   "cell_type": "code",
   "execution_count": null,
   "id": "4d2ec311-41f3-499e-b56b-2d13585da3bf",
   "metadata": {},
   "outputs": [],
   "source": []
  },
  {
   "cell_type": "markdown",
   "id": "f86df00f-fb96-4e1d-bb0f-1441106e0b3a",
   "metadata": {},
   "source": [
    "### Q5"
   ]
  },
  {
   "cell_type": "code",
   "execution_count": 17,
   "id": "e542c954-3d55-4b60-a2a2-7b91dc6d0469",
   "metadata": {},
   "outputs": [
    {
     "name": "stdout",
     "output_type": "stream",
     "text": [
      "183.0\n"
     ]
    }
   ],
   "source": [
    "# Resample your time series to a daily frequency.  Perform ETS decomposition based on an additive model.  What is the value of the seasonal component on 2020-12-25\n",
    "from statsmodels.tsa.seasonal import seasonal_decompose\n",
    "\n",
    "# Resample the series to a daily frequency\n",
    "daily_complaints = df['Unique Key'].resample('D').count()\n",
    "\n",
    "# Perform ETS decomposition based on an additive model\n",
    "result = seasonal_decompose(daily_complaints, model='additive')\n",
    "\n",
    "# Get the seasonal component value on 2020-12-25, rounded to the nearest integer\n",
    "seasonal_component = result.seasonal['2020-12-25'].round()\n",
    "print(seasonal_component)"
   ]
  },
  {
   "cell_type": "code",
   "execution_count": null,
   "id": "028aa4ad-7461-4c8f-9e0f-cd5e9ab25d51",
   "metadata": {},
   "outputs": [],
   "source": []
  },
  {
   "cell_type": "markdown",
   "id": "12d2d4e7-4d33-4628-bb52-5b48629ab91f",
   "metadata": {},
   "source": [
    "### Q6"
   ]
  },
  {
   "cell_type": "code",
   "execution_count": 19,
   "id": "816c4131-1bf4-452e-9bb0-13536fffbf0d",
   "metadata": {},
   "outputs": [
    {
     "name": "stdout",
     "output_type": "stream",
     "text": [
      "0.7517059728398577\n"
     ]
    }
   ],
   "source": [
    "# Resample the data to daily frequency, summing the number of complaints each day\n",
    "daily_complaints = df['Unique Key'].resample('D').count()\n",
    "\n",
    "# Calculate autocorrelation for lag of 1\n",
    "autocorrelation_lag_1 = daily_complaints.autocorr(lag=1)\n",
    "\n",
    "# Print the autocorrelation\n",
    "print(autocorrelation_lag_1)"
   ]
  },
  {
   "cell_type": "code",
   "execution_count": null,
   "id": "a5f1f50f-17a5-4c8b-9bdb-b7bc324367f4",
   "metadata": {},
   "outputs": [],
   "source": []
  },
  {
   "cell_type": "markdown",
   "id": "947ca0aa-0b2f-4d00-ac4e-c2b7a86eb396",
   "metadata": {},
   "source": [
    "### Q7"
   ]
  },
  {
   "cell_type": "code",
   "execution_count": 20,
   "id": "ee9c53ca-cfc4-4598-8f2f-fe4dc6c6d124",
   "metadata": {},
   "outputs": [
    {
     "name": "stderr",
     "output_type": "stream",
     "text": [
      "/opt/conda/envs/mggy8413/lib/python3.11/site-packages/tqdm/auto.py:21: TqdmWarning: IProgress not found. Please update jupyter and ipywidgets. See https://ipywidgets.readthedocs.io/en/stable/user_install.html\n",
      "  from .autonotebook import tqdm as notebook_tqdm\n",
      "14:57:23 - cmdstanpy - INFO - Chain [1] start processing\n",
      "14:57:26 - cmdstanpy - INFO - Chain [1] done processing\n"
     ]
    },
    {
     "name": "stdout",
     "output_type": "stream",
     "text": [
      "1233.7823321393885\n"
     ]
    }
   ],
   "source": [
    "from prophet import Prophet\n",
    "from sklearn.metrics import mean_squared_error\n",
    "from math import sqrt\n",
    "\n",
    "# Prepare the data in the format required by Prophet\n",
    "df_prophet = daily_complaints.reset_index()\n",
    "df_prophet.columns = ['ds', 'y']\n",
    "\n",
    "# Split the data into training and test sets\n",
    "train = df_prophet.iloc[:-90]\n",
    "test = df_prophet.iloc[-90:]\n",
    "\n",
    "# Initialize and fit the Prophet model\n",
    "model = Prophet()\n",
    "model.fit(train)\n",
    "\n",
    "# Create a dataframe for future predictions\n",
    "future = model.make_future_dataframe(periods=90)\n",
    "\n",
    "# Make predictions\n",
    "forecast = model.predict(future)\n",
    "\n",
    "# Extract predictions corresponding to the test set\n",
    "predictions = forecast.iloc[-90:]['yhat']\n",
    "\n",
    "# Calculate RMSE\n",
    "rmse = sqrt(mean_squared_error(test['y'], predictions))\n",
    "print(rmse)"
   ]
  },
  {
   "cell_type": "code",
   "execution_count": null,
   "id": "0b06361e-9f01-4d2e-9c7e-c734d867fea2",
   "metadata": {},
   "outputs": [],
   "source": []
  }
 ],
 "metadata": {
  "kernelspec": {
   "display_name": "Python [conda env:mggy8413]",
   "language": "python",
   "name": "conda-env-mggy8413-py"
  },
  "language_info": {
   "codemirror_mode": {
    "name": "ipython",
    "version": 3
   },
   "file_extension": ".py",
   "mimetype": "text/x-python",
   "name": "python",
   "nbconvert_exporter": "python",
   "pygments_lexer": "ipython3",
   "version": "3.11.8"
  }
 },
 "nbformat": 4,
 "nbformat_minor": 5
}
